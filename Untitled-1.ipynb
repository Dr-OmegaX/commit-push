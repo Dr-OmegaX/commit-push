{
 "cells": [
  {
   "cell_type": "code",
   "execution_count": null,
   "metadata": {},
   "outputs": [],
   "source": [
    "\"hello\""
   ]
  },
  {
   "cell_type": "code",
   "execution_count": null,
   "metadata": {},
   "outputs": [
    {
     "ename": "",
     "evalue": "",
     "output_type": "error",
     "traceback": [
      "\u001b[1;31mRunning cells with 'Python 3.9.13 64-bit (microsoft store)' requires ipykernel package.\n",
      "\u001b[1;31mRun the following command to install 'ipykernel' into the Python environment. \n",
      "\u001b[1;31mCommand: 'c:/Users/barba/AppData/Local/Microsoft/WindowsApps/python3.9.exe -m pip install ipykernel -U --force-reinstall'"
     ]
    }
   ],
   "source": [
    "# init imports\n",
    "from pathlib import Path\n",
    "import csv\n"
   ]
  },
  {
   "cell_type": "code",
   "execution_count": null,
   "metadata": {},
   "outputs": [],
   "source": [
    "\"\"\"\n",
    "    Code below opens csv file into csvreader object\n",
    "\"\"\"\n",
    "\n",
    "with open(\"PyBank/Resources/budget_data.csv\", \"r\") as file:\n",
    "    # print(file.read()) to make sure the file is properly read in\n",
    "    csvreader = csv.reader(file)\n",
    "    header = next(csvreader)\n",
    "    total_months = 0\n",
    "    sum = 0\n",
    "    for row in csvreader:\n",
    "        if i != 0: #if not in first row\n",
    "            change = prev_row - float(row[1])\n",
    "            print(f\"\")\n",
    "        total_months+=1\n",
    "        sum+=int(row[1])\n",
    "        print(row[1])\n",
    "    print(f\"Total number of months is\" + [total_months])\n",
    "    print(f\"\")"
   ]
  },
  {
   "cell_type": "code",
   "execution_count": null,
   "metadata": {},
   "outputs": [],
   "source": [
    "output = f\"\"\"\n",
    "Financial Analysis\n",
    "____________________________\n",
    "Total Months: {total_months}\n",
    "Total: "
   ]
  },
  {
   "cell_type": "code",
   "execution_count": null,
   "metadata": {},
   "outputs": [],
   "source": [
    "# Save the Output to output.txt\n",
    "with open(\"output.txt\", \"w\") as file:\n",
    "    file.write(output)"
   ]
  }
 ],
 "metadata": {
  "kernelspec": {
   "display_name": "Python 3.9.13 64-bit (microsoft store)",
   "language": "python",
   "name": "python3"
  },
  "language_info": {
   "name": "python",
   "version": "3.9.13"
  },
  "orig_nbformat": 4,
  "vscode": {
   "interpreter": {
    "hash": "b78ffe8036f7c19de44e7b851ac8654b2e9eeadfdddaac071062b9db7079e68a"
   }
  }
 },
 "nbformat": 4,
 "nbformat_minor": 2
}
